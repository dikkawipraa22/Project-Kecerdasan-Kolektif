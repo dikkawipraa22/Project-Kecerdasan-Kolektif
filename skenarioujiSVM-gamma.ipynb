{
 "cells": [
  {
   "cell_type": "markdown",
   "metadata": {},
   "source": [
    "### Import Library"
   ]
  },
  {
   "cell_type": "code",
   "execution_count": 10,
   "metadata": {},
   "outputs": [],
   "source": [
    "import pandas as pd\n",
    "from sklearn.model_selection import train_test_split\n",
    "import numpy as np\n",
    "from sklearn.svm import SVC\n",
    "from sklearn.metrics import accuracy_score\n",
    "import time \n",
    "import matplotlib.pyplot as plt"
   ]
  },
  {
   "cell_type": "markdown",
   "metadata": {},
   "source": [
    "### Import Data"
   ]
  },
  {
   "cell_type": "code",
   "execution_count": 11,
   "metadata": {},
   "outputs": [],
   "source": [
    "X = pd.read_csv('dataset/fitur.csv').values\n",
    "y = pd.read_csv('dataset/target.csv').values.flatten()"
   ]
  },
  {
   "cell_type": "markdown",
   "metadata": {},
   "source": [
    "### Split Data"
   ]
  },
  {
   "cell_type": "code",
   "execution_count": 12,
   "metadata": {},
   "outputs": [],
   "source": [
    "X_train, X_test, y_train, y_test = train_test_split(X, y, test_size=0.1, random_state=42)"
   ]
  },
  {
   "cell_type": "markdown",
   "metadata": {},
   "source": [
    "### Modeling BBA-SVM"
   ]
  },
  {
   "cell_type": "code",
   "execution_count": 13,
   "metadata": {},
   "outputs": [],
   "source": [
    "class BBA_SVM:\n",
    "    def __init__(self, n_bats, n_features, max_iter, f_min, f_max, alpha, gamma):\n",
    "        self.n_bats = n_bats\n",
    "        self.n_features = n_features\n",
    "        self.max_iter = max_iter\n",
    "        self.f_min = f_min\n",
    "        self.f_max = f_max\n",
    "        self.alpha = alpha\n",
    "        self.gamma = gamma\n",
    "\n",
    "        # inisialisasi posisi, kecepatan, frekuensi, pulse rate, dan loudness\n",
    "        self.positions = np.random.randint(2, size=(n_bats, n_features))\n",
    "        self.velocities = np.zeros((n_bats, n_features))\n",
    "        self.frequencies = np.zeros(n_bats)\n",
    "        self.loudness = np.random.uniform(1, 2.000001, size=n_bats)\n",
    "        self.pulse_rate = np.random.rand(n_bats)\n",
    "        self.pulse_rate_initial = self.pulse_rate.copy()\n",
    "        self.fitness_values = np.full(n_bats, -np.inf)\n",
    "\n",
    "        # inisialisasi global best\n",
    "        self.global_best_position = self.positions[0].copy()\n",
    "        self.global_best_fitness = self.fitness(self.global_best_position)\n",
    "        for i in range(self.n_bats):\n",
    "            fitness = self.fitness(self.positions[i])\n",
    "            if fitness > self.global_best_fitness:\n",
    "                self.global_best_fitness = fitness\n",
    "                self.global_best_position = self.positions[i].copy()\n",
    "\n",
    "    # fungsi sigmoid / untuk perpindahan posisi partikel secara biner\n",
    "    def sigmoid(self, x):\n",
    "        return 1 / (1 + np.exp(-x))\n",
    "\n",
    "    # fungsi objektif / fitness dengan SVM\n",
    "    def fitness(self, position):\n",
    "        selected_features = np.where(position == 1)[0]\n",
    "        # pinalti jika tidak ada fitur yang terpilih\n",
    "        if len(selected_features) == 0:\n",
    "            return 0\n",
    "\n",
    "        X_train_selected = X_train[:, selected_features]\n",
    "        X_test_selected = X_test[:, selected_features]\n",
    "\n",
    "        model = SVC(kernel='linear', C=10, gamma=0.1, random_state=42)\n",
    "        model.fit(X_train_selected, y_train)\n",
    "        y_pred = model.predict(X_test_selected)\n",
    "        return accuracy_score(y_test, y_pred)\n",
    "\n",
    "    # fungsi optimasi BAA\n",
    "    def optimize(self):\n",
    "        for t in range(self.max_iter):\n",
    "            for i in range(self.n_bats):\n",
    "                # memperbarui frekuensi\n",
    "                beta = np.random.rand()\n",
    "                self.frequencies[i] = self.f_min + (self.f_max - self.f_min) * beta\n",
    "\n",
    "                # memperbarui kecepatan\n",
    "                self.velocities[i] += (self.global_best_position - self.positions[i]) * self.frequencies[i]\n",
    "                # memperbarui posisi\n",
    "                new_position = (np.random.rand(self.n_features) < self.sigmoid(self.velocities[i])).astype(int)\n",
    "\n",
    "                # mengenerate posisi baru / lokal\n",
    "                if np.random.rand() > self.pulse_rate[i]:\n",
    "                    epsilon = np.random.uniform(-1, 1.000001, size=self.n_features)\n",
    "                    new_position = self.global_best_position + epsilon * np.mean(self.loudness)\n",
    "                    new_position = (np.random.rand(self.n_features) < self.sigmoid(new_position)).astype(int)\n",
    "\n",
    "                # menghitung fitness\n",
    "                new_fitness = self.fitness(new_position)\n",
    "\n",
    "                # terima solusi baru jika meningkatkan fitness dan memenuhi ambang probabilitas\n",
    "                if np.random.rand() < self.loudness[i] and new_fitness > self.fitness_values[i] :\n",
    "                    self.positions[i] = new_position\n",
    "                    self.fitness_values[i] = new_fitness\n",
    "\n",
    "                    # memperbarui loudness and pulse rate\n",
    "                    self.loudness[i] *= self.alpha\n",
    "                    self.pulse_rate[i] *= self.pulse_rate_initial[i] * (1 - np.exp(-self.gamma * t))\n",
    "\n",
    "                # memperbarui global best\n",
    "                if new_fitness > self.global_best_fitness:\n",
    "                    self.global_best_fitness = new_fitness\n",
    "                    self.global_best_position = new_position\n",
    "\n",
    "            print(f\"Iteration {t + 1}/{self.max_iter}: Best Fitness = {self.global_best_fitness}\")\n",
    "\n",
    "        print(\"OPTIMASI SELESAI\\n\")\n",
    "        return self.global_best_position, self.global_best_fitness"
   ]
  },
  {
   "cell_type": "markdown",
   "metadata": {},
   "source": [
    "### Pengujian"
   ]
  },
  {
   "cell_type": "markdown",
   "metadata": {},
   "source": [
    "##### Pengaruh gamma terhadap akurasi dan waktu komputasi"
   ]
  },
  {
   "cell_type": "code",
   "execution_count": null,
   "metadata": {},
   "outputs": [],
   "source": [
    "def tuning():\n",
    "    n_bats_values = [5]\n",
    "    n_features = X.shape[1]\n",
    "    max_iter_values = [100]\n",
    "    f_min_values = [0] \n",
    "    f_max_values = [2]\n",
    "    alpha_values = [0.8]\n",
    "    gamma_values = list(np.arange(0.9, 1.01, 0.01))\n",
    "\n",
    "    gamma_list = []\n",
    "    best_solution_list = []\n",
    "    best_features_list = []\n",
    "    best_fitness_list = []\n",
    "    duration_list = []\n",
    "\n",
    "    i = 0\n",
    "    for n_bats in n_bats_values:\n",
    "        for max_iter in max_iter_values:\n",
    "            for f_min in f_min_values:\n",
    "                for f_max in f_max_values:\n",
    "                    for alpha in alpha_values:\n",
    "                        for gamma in gamma_values:\n",
    "                                    i += 1\n",
    "                                    print(f\"\\nKOMBINASI KE-{i}, GAMMA = {gamma}\")\n",
    "                                    start_time = time.time()\n",
    "                                    # inisialisasi bba\n",
    "                                    bba = BBA_SVM(\n",
    "                                        n_bats=n_bats,\n",
    "                                        n_features=n_features,\n",
    "                                        max_iter=max_iter,\n",
    "                                        f_min=f_min,\n",
    "                                        f_max=f_max,\n",
    "                                        alpha=alpha,\n",
    "                                        gamma=gamma\n",
    "                                    )\n",
    "                                    # optimasi\n",
    "                                    best_solution, best_fitness = bba.optimize()\n",
    "                                    end_time = time.time()\n",
    "                                    durasi = end_time - start_time\n",
    "                                    best_features = np.where(best_solution == 1)[0]\n",
    "                                    # simpan ke list\n",
    "                                    gamma_list.append(gamma)\n",
    "                                    best_solution_list.append(best_solution)\n",
    "                                    best_features_list.append(best_features)\n",
    "                                    best_fitness_list.append(best_fitness)  \n",
    "                                    duration_list.append(durasi) \n",
    "    hasil = pd.DataFrame({\n",
    "        'gamma': gamma_list, \n",
    "        'best_solution': best_solution_list,\n",
    "        'best_features': best_features_list,\n",
    "        'best_fitness': best_fitness_list,\n",
    "        'duration': duration_list\n",
    "    })                                 \n",
    "    return hasil"
   ]
  },
  {
   "cell_type": "markdown",
   "metadata": {},
   "source": [
    "##### Runing tuning"
   ]
  },
  {
   "cell_type": "code",
   "execution_count": null,
   "metadata": {},
   "outputs": [],
   "source": [
    "fitness_list = []\n",
    "duration_list = []\n",
    "n_tuning = 20\n",
    "\n",
    "for i in range(n_tuning):\n",
    "    print(f\"\\nRUNING KE-{i+1}/{n_tuning} | LET'S GO!!!!!!!!!!!!!!!!!!!!!!!!!!!!\")\n",
    "    nilaiGAMMA = tuning()\n",
    "    fitness_list.append(nilaiGAMMA[['gamma', 'best_fitness']])\n",
    "    duration_list.append(nilaiGAMMA[['gamma', 'duration']])"
   ]
  },
  {
   "cell_type": "code",
   "execution_count": null,
   "metadata": {},
   "outputs": [],
   "source": [
    "fitness_df = pd.concat(fitness_list)\n",
    "duration_df = pd.concat(duration_list)\n",
    "fitness_df.to_csv('hasil uji/gamma-fitness.csv', index=False)\n",
    "duration_df.to_csv('hasil uji/gamma-duration.csv', index=False)\n",
    "\n",
    "# rerata fitness gamma\n",
    "avg_fitness = fitness_df.groupby('gamma')['best_fitness'].mean().reset_index()\n",
    "\n",
    "# rerata duration gamma\n",
    "avg_duration = duration_df.groupby('gamma')['duration'].mean().reset_index()\n",
    "\n",
    "avg_fitness.to_csv('hasil uji/gamma-avg_fitness.csv', index=False)\n",
    "avg_duration.to_csv('hasil uji/gamma-avg_duration.csv', index=False)"
   ]
  },
  {
   "cell_type": "code",
   "execution_count": null,
   "metadata": {},
   "outputs": [],
   "source": [
    "avg_fitness"
   ]
  },
  {
   "cell_type": "code",
   "execution_count": null,
   "metadata": {},
   "outputs": [],
   "source": [
    "avg_duration"
   ]
  },
  {
   "cell_type": "code",
   "execution_count": null,
   "metadata": {},
   "outputs": [],
   "source": [
    "plt.figure(figsize=(8, 6))\n",
    "plt.plot(avg_fitness['gamma'], avg_fitness['best_fitness'], marker='o', color='blue', label='Rata-rata Fitness')\n",
    "plt.title('Rata-rata Fitness terhadap Gamma (20 Runs)')\n",
    "plt.xlabel('Gamma')\n",
    "plt.ylabel('Rata-rata Fitness')\n",
    "plt.grid(True)\n",
    "plt.legend()\n",
    "plt.tight_layout()\n",
    "plt.show()"
   ]
  },
  {
   "cell_type": "code",
   "execution_count": null,
   "metadata": {},
   "outputs": [],
   "source": [
    "plt.figure(figsize=(8, 6))\n",
    "plt.plot(avg_duration['gamma'], avg_duration['best_fitness'], marker='o', color='blue', label='Rata-rata Durasi')\n",
    "plt.title('Rata-rata Durasi terhadap Gamma (20 Runs)')\n",
    "plt.xlabel('Gamma')\n",
    "plt.ylabel('Rata-rata Durasi')\n",
    "plt.grid(True)\n",
    "plt.legend()\n",
    "plt.tight_layout()\n",
    "plt.show()"
   ]
  }
 ],
 "metadata": {
  "kernelspec": {
   "display_name": "Python 3",
   "language": "python",
   "name": "python3"
  },
  "language_info": {
   "codemirror_mode": {
    "name": "ipython",
    "version": 3
   },
   "file_extension": ".py",
   "mimetype": "text/x-python",
   "name": "python",
   "nbconvert_exporter": "python",
   "pygments_lexer": "ipython3",
   "version": "3.12.6"
  }
 },
 "nbformat": 4,
 "nbformat_minor": 2
}
